{
 "cells": [
  {
   "cell_type": "markdown",
   "id": "d55708b4",
   "metadata": {},
   "source": [
    "#01 정수 제곱근 판별\n",
    "\n",
    "\n",
    "임의의 양의 정수 n에 대해, n이 어떤 양의 정수 x의 제곱인지 아닌지 판단하려 합니다.\n",
    "n이 양의 정수 x의 제곱이라면 x+1의 제곱을 리턴하고, n이 양의 정수 x의 제곱이 아니라면 -1을 리턴하는 함수를 완성하세요.\n",
    "\n"
   ]
  },
  {
   "cell_type": "code",
   "execution_count": 11,
   "id": "2d2ffd42",
   "metadata": {},
   "outputs": [
    {
     "data": {
      "text/plain": [
       "144.0"
      ]
     },
     "execution_count": 11,
     "metadata": {},
     "output_type": "execute_result"
    }
   ],
   "source": [
    "import math\n",
    "def solution(n):\n",
    "    sqrt= n**(1/2) #제곱근 값 구하기 \n",
    "    if sqrt%1==0: #제곱근이 정수값으로 나오면 1로 나누었을때 나머지가 0임\n",
    "        return (sqrt+1)**2\n",
    "    return -1\n",
    "\n",
    "solution(121)"
   ]
  },
  {
   "cell_type": "markdown",
   "id": "35614111",
   "metadata": {},
   "source": [
    "#02 문자열 내 p와 y의 개수\n",
    "\n",
    "\n",
    "대문자와 소문자가 섞여있는 문자열 s가 주어집니다. s에 'p'의 개수와 'y'의 개수를 비교해 같으면 True, 다르면 False를 return 하는 solution를 완성하세요. 'p', 'y' 모두 하나도 없는 경우는 항상 True를 리턴합니다. 단, 개수를 비교할 때 대문자와 소문자는 구별하지 않습니다.\n",
    "\n",
    "예를 들어 s가 \"pPoooyY\"면 true를 return하고 \"Pyy\"라면 false를 return합니다."
   ]
  },
  {
   "cell_type": "code",
   "execution_count": 15,
   "id": "d343534e",
   "metadata": {},
   "outputs": [
    {
     "data": {
      "text/plain": [
       "True"
      ]
     },
     "execution_count": 15,
     "metadata": {},
     "output_type": "execute_result"
    }
   ],
   "source": [
    "def solution(s):\n",
    "    slower=s.lower()\n",
    "    p_count=0\n",
    "    y_count=0\n",
    "        \n",
    "    for i in slower:\n",
    "        if i =='p':\n",
    "            p_count+=1\n",
    "        elif i=='y':\n",
    "            y_count+=1\n",
    "    if p_count!=y_count:\n",
    "        return False\n",
    "    \n",
    "    return True\n",
    "\n",
    "\n",
    "\n",
    "solution(\"ooo\")"
   ]
  },
  {
   "cell_type": "code",
   "execution_count": 19,
   "id": "02a80560",
   "metadata": {},
   "outputs": [
    {
     "data": {
      "text/plain": [
       "False"
      ]
     },
     "execution_count": 19,
     "metadata": {},
     "output_type": "execute_result"
    }
   ],
   "source": [
    "def solution(s):\n",
    "    return s.lower().count('p')==s.lower().count('y')\n",
    "\n",
    "solution(\"pooo\")"
   ]
  },
  {
   "cell_type": "markdown",
   "id": "426f3488",
   "metadata": {},
   "source": [
    "#3 하샤드 수\n",
    "\n",
    "양의 정수 x가 하샤드 수이려면 x의 자릿수의 합으로 x가 나누어져야 합니다. 예를 들어 18의 자릿수 합은 1+8=9이고, 18은 9로 나누어 떨어지므로 18은 하샤드 수입니다. 자연수 x를 입력받아 x가 하샤드 수인지 아닌지 검사하는 함수, solution을 완성해주세요."
   ]
  },
  {
   "cell_type": "code",
   "execution_count": 20,
   "id": "62c6937c",
   "metadata": {},
   "outputs": [
    {
     "data": {
      "text/plain": [
       "True"
      ]
     },
     "execution_count": 20,
     "metadata": {},
     "output_type": "execute_result"
    }
   ],
   "source": [
    "def solution(x):\n",
    "    sum=0\n",
    "    for i in str(x):\n",
    "        sum+=int(i)\n",
    "    if x%sum==0:\n",
    "        return True\n",
    "    return False\n",
    "solution(10)"
   ]
  },
  {
   "cell_type": "code",
   "execution_count": 25,
   "id": "6b3b112b",
   "metadata": {},
   "outputs": [
    {
     "name": "stdout",
     "output_type": "stream",
     "text": [
      "True\n"
     ]
    }
   ],
   "source": [
    "#참고코드\n",
    "def Harshad(n):\n",
    "    # n은 하샤드 수 인가요?\n",
    "    return n % sum([int(c) for c in str(n)]) == 0\n",
    "\n",
    "# 아래는 테스트로 출력해 보기 위한 코드입니다.\n",
    "print(Harshad(18))"
   ]
  },
  {
   "cell_type": "markdown",
   "id": "f0e9b070",
   "metadata": {},
   "source": [
    "#4 정수 내림차순으로 배치하기\n",
    "\n",
    "함수 solution은 정수 n을 매개변수로 입력받습니다. n의 각 자릿수를 큰것부터 작은 순으로 정렬한 새로운 정수를 리턴해주세요. 예를들어 n이 118372면 873211을 리턴하면 됩니다."
   ]
  },
  {
   "cell_type": "code",
   "execution_count": 36,
   "id": "0fdeb1a6",
   "metadata": {},
   "outputs": [
    {
     "name": "stdout",
     "output_type": "stream",
     "text": [
      "<class 'str'>\n"
     ]
    },
    {
     "data": {
      "text/plain": [
       "'873211'"
      ]
     },
     "execution_count": 36,
     "metadata": {},
     "output_type": "execute_result"
    }
   ],
   "source": [
    "def solution(n):\n",
    "    arr=[]\n",
    "    for i in str(n):\n",
    "        arr.append(int(i))\n",
    "    arr.sort(reverse=True)\n",
    "    \n",
    "    res=''.join(str(s)for s in arr) #join함수는 str타입으로 반환\n",
    "    print(type(res))\n",
    "    return res\n",
    "\n",
    "solution(118372)"
   ]
  },
  {
   "cell_type": "code",
   "execution_count": null,
   "id": "fd61d56a",
   "metadata": {},
   "outputs": [],
   "source": [
    "#참고코드\n",
    "def solution(n):\n",
    "    ls = list(str(n)) #문자열을 바로 list로 ,,,가능하구나 형변환할 필요도 없고 너무 편한 코드\n",
    "    ls.sort(reverse = True)\n",
    "    return int(\"\".join(ls))"
   ]
  },
  {
   "cell_type": "markdown",
   "id": "2fc2ce82",
   "metadata": {},
   "source": [
    "#5 문자열을 정수로 바꾸기\n",
    "\n",
    "문자열 s를 숫자로 변환한 결과를 반환하는 함수, solution을 완성하세요.\n"
   ]
  },
  {
   "cell_type": "code",
   "execution_count": 46,
   "id": "d38ec2c3",
   "metadata": {},
   "outputs": [
    {
     "data": {
      "text/plain": [
       "-1234"
      ]
     },
     "execution_count": 46,
     "metadata": {},
     "output_type": "execute_result"
    }
   ],
   "source": [
    "def solution(s):\n",
    "\n",
    "#     if list(s)[0]=='-':\n",
    "#         return int(s)\n",
    "    return int(s)\n",
    "\n",
    "\n",
    "solution('-1234')\n",
    "\n"
   ]
  },
  {
   "cell_type": "code",
   "execution_count": null,
   "id": "0d5cef63",
   "metadata": {},
   "outputs": [],
   "source": []
  }
 ],
 "metadata": {
  "kernelspec": {
   "display_name": "Python 3 (ipykernel)",
   "language": "python",
   "name": "python3"
  },
  "language_info": {
   "codemirror_mode": {
    "name": "ipython",
    "version": 3
   },
   "file_extension": ".py",
   "mimetype": "text/x-python",
   "name": "python",
   "nbconvert_exporter": "python",
   "pygments_lexer": "ipython3",
   "version": "3.10.7"
  }
 },
 "nbformat": 4,
 "nbformat_minor": 5
}
