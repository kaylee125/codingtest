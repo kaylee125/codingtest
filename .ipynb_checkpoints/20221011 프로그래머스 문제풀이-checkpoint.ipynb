{
 "cells": [
  {
   "cell_type": "markdown",
   "id": "3009d962",
   "metadata": {},
   "source": [
    "- LV1 #01\n",
    "\n",
    "정수 num이 짝수일 경우 \"Even\"을 반환하고 홀수인 경우 \"Odd\"를 반환하는 함수, solution을 완성해주세요."
   ]
  },
  {
   "cell_type": "code",
   "execution_count": 2,
   "id": "0e978a27",
   "metadata": {},
   "outputs": [],
   "source": [
    "def solution(num):\n",
    "    if num%2==0:\n",
    "        return 'Even'\n",
    "    else:\n",
    "        return 'Odd'\n",
    "        "
   ]
  },
  {
   "cell_type": "markdown",
   "id": "593c819f",
   "metadata": {},
   "source": [
    "- LV1 #02\n",
    "\n",
    "정수를 담고 있는 배열 arr의 평균값을 return하는 함수, solution을 완성해보세요"
   ]
  },
  {
   "cell_type": "code",
   "execution_count": 3,
   "id": "bc96658f",
   "metadata": {},
   "outputs": [
    {
     "data": {
      "text/plain": [
       "2.5"
      ]
     },
     "execution_count": 3,
     "metadata": {},
     "output_type": "execute_result"
    }
   ],
   "source": [
    "def solution(arr):\n",
    "    sum=0\n",
    "    for i in range(len(arr)):\n",
    "        sum+=arr[i]\n",
    "    avg=float(sum/len(arr))\n",
    "    return avg\n",
    "\n",
    "arr=[1,2,3,4]\n",
    "solution(arr)"
   ]
  },
  {
   "cell_type": "markdown",
   "id": "3fa23ab5",
   "metadata": {},
   "source": [
    "- LV1 #03\n",
    "\n",
    "정수 n을 입력받아 n의 약수를 모두 더한 값을 리턴하는 함수, solution을 완성해주세요."
   ]
  },
  {
   "cell_type": "code",
   "execution_count": 4,
   "id": "e70da10c",
   "metadata": {},
   "outputs": [
    {
     "data": {
      "text/plain": [
       "28"
      ]
     },
     "execution_count": 4,
     "metadata": {},
     "output_type": "execute_result"
    }
   ],
   "source": [
    "def solution(n):\n",
    "    sum=0\n",
    "    for i in range(1,n+1):\n",
    "        if n%i==0:\n",
    "            sum+=i\n",
    "    return sum\n",
    "\n",
    "\n",
    "solution(12)"
   ]
  },
  {
   "cell_type": "markdown",
   "id": "17e6e6af",
   "metadata": {},
   "source": [
    "- LV1 #04\n",
    "\n",
    "자연수 N이 주어지면, N의 각 자릿수의 합을 구해서 return 하는 solution 함수를 만들어 주세요.\n",
    "예를들어 N = 123이면 1 + 2 + 3 = 6을 return 하면 됩니다."
   ]
  },
  {
   "cell_type": "code",
   "execution_count": 5,
   "id": "8d8c354f",
   "metadata": {},
   "outputs": [],
   "source": [
    "def solution(n):\n",
    "    sum=0\n",
    "    for i in str(n):\n",
    "        sum+=int(i)\n",
    "        print(i)\n",
    "\n",
    "    return sum"
   ]
  },
  {
   "cell_type": "markdown",
   "id": "67b884b2",
   "metadata": {},
   "source": [
    "- LV1 #05\n",
    "\n",
    "자연수 n을 뒤집어 각 자리 숫자를 원소로 가지는 배열 형태로 리턴해주세요. 예를들어 n이 12345이면 [5,4,3,2,1]을 리턴합니다."
   ]
  },
  {
   "cell_type": "code",
   "execution_count": 6,
   "id": "3f814bab",
   "metadata": {},
   "outputs": [
    {
     "data": {
      "text/plain": [
       "[5, 4, 3, 2, 1]"
      ]
     },
     "execution_count": 6,
     "metadata": {},
     "output_type": "execute_result"
    }
   ],
   "source": [
    "def solution(n):\n",
    "    answer = []\n",
    "    for i in reversed(str(n)):\n",
    "        answer.append(int(i))\n",
    "    \n",
    "    return answer\n",
    "\n",
    "solution(12345)"
   ]
  },
  {
   "cell_type": "code",
   "execution_count": null,
   "id": "ee13ca96",
   "metadata": {},
   "outputs": [],
   "source": []
  },
  {
   "cell_type": "code",
   "execution_count": null,
   "id": "aafb72ab",
   "metadata": {},
   "outputs": [],
   "source": []
  }
 ],
 "metadata": {
  "kernelspec": {
   "display_name": "Python 3 (ipykernel)",
   "language": "python",
   "name": "python3"
  },
  "language_info": {
   "codemirror_mode": {
    "name": "ipython",
    "version": 3
   },
   "file_extension": ".py",
   "mimetype": "text/x-python",
   "name": "python",
   "nbconvert_exporter": "python",
   "pygments_lexer": "ipython3",
   "version": "3.10.7"
  }
 },
 "nbformat": 4,
 "nbformat_minor": 5
}
